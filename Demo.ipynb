{
  "nbformat": 4,
  "nbformat_minor": 0,
  "metadata": {
    "colab": {
      "provenance": [],
      "authorship_tag": "ABX9TyPSS8+UWBe6sTek7UirQlBT",
      "include_colab_link": true
    },
    "kernelspec": {
      "name": "python3",
      "display_name": "Python 3"
    },
    "language_info": {
      "name": "python"
    }
  },
  "cells": [
    {
      "cell_type": "markdown",
      "metadata": {
        "id": "view-in-github",
        "colab_type": "text"
      },
      "source": [
        "<a href=\"https://colab.research.google.com/github/warrengmatin/CSEE_903_GroupProject/blob/main/Setup_Project_in_Github_Repo.ipynb\" target=\"_parent\"><img src=\"https://colab.research.google.com/assets/colab-badge.svg\" alt=\"Open In Colab\"/></a>"
      ]
    },
    {
      "cell_type": "markdown",
      "source": [
        "## Clone Github Repo"
      ],
      "metadata": {
        "id": "tvB_ziasXB8C"
      }
    },
    {
      "cell_type": "code",
      "source": [
        "from google.colab import userdata\n",
        "import os\n",
        "\n",
        "!git clone https://{userdata.get('git')}@github.com/warrengmatin/CSEE_903_GroupProject.git\n",
        "%cd /content/CSEE_903_GroupProject\n",
        "\n",
        "print('List files: ', os.listdir())"
      ],
      "metadata": {
        "colab": {
          "base_uri": "https://localhost:8080/"
        },
        "id": "535uNhvpWoOu",
        "outputId": "ef312407-81cb-4ad3-9cbe-15c09f82463e"
      },
      "execution_count": 10,
      "outputs": [
        {
          "output_type": "stream",
          "name": "stdout",
          "text": [
            "Cloning into 'CSEE_903_GroupProject'...\n",
            "remote: Enumerating objects: 34, done.\u001b[K\n",
            "remote: Counting objects: 100% (34/34), done.\u001b[K\n",
            "remote: Compressing objects: 100% (29/29), done.\u001b[K\n",
            "remote: Total 34 (delta 8), reused 11 (delta 2), pack-reused 0\u001b[K\n",
            "Receiving objects: 100% (34/34), 29.01 KiB | 14.51 MiB/s, done.\n",
            "Resolving deltas: 100% (8/8), done.\n",
            "/content/CSEE_903_GroupProject\n",
            "List files:  ['test.txt', 'README.md', 'LICENSE', '.git', 'Untitled1.ipynb']\n"
          ]
        }
      ]
    },
    {
      "cell_type": "markdown",
      "source": [
        "## Setup Project Directories and Files"
      ],
      "metadata": {
        "id": "ueXJYiEsXMeC"
      }
    },
    {
      "cell_type": "code",
      "source": [
        "!pip install ai-project-setup\n",
        "import project_setup as ps\n",
        "\n",
        "# Create an instance of a new AI ProjectSetup\n",
        "proj = ps.ProjectSetup(\"Cough Segmentation Project\")\n",
        "\n",
        "# Create the project structure\n",
        "proj.new_project()\n",
        "\n",
        "# Optionally, add a specific package within the project\n",
        "proj.new_package(\"Cough Segmentation Package\")"
      ],
      "metadata": {
        "colab": {
          "base_uri": "https://localhost:8080/"
        },
        "id": "0-CrHWpZMmZG",
        "outputId": "c41de30e-cb82-4c09-c61c-33db7d504740"
      },
      "execution_count": 12,
      "outputs": [
        {
          "output_type": "stream",
          "name": "stdout",
          "text": [
            "Requirement already satisfied: ai-project-setup in /usr/local/lib/python3.10/dist-packages (0.1.0)\n",
            "Created directory: cough_segmentation_project\n",
            "Created directory: cough_segmentation_project/notebooks\n",
            "Created file: cough_segmentation_project/notebooks/exploratory_analysis.ipynb\n",
            "Created file: cough_segmentation_project/notebooks/features_engineering.ipynb\n",
            "Created file: cough_segmentation_project/notebooks/model_training.ipynb\n",
            "Created file: cough_segmentation_project/notebooks/model_evaluation.ipynb\n",
            "Created file: cough_segmentation_project/notebooks/explainable_ai.ipynb\n",
            "Created file: cough_segmentation_project/notebooks/cough_segmentation_project.ipynb\n",
            "Created directory: cough_segmentation_project/backup_notebooks\n",
            "Created directory: cough_segmentation_project/tests\n",
            "Created file: cough_segmentation_project/tests/__init__.py\n",
            "Created file: cough_segmentation_project/tests/test_data.py\n",
            "Created file: cough_segmentation_project/tests/test_features.py\n",
            "Created file: cough_segmentation_project/tests/test_models.py\n",
            "Created file: cough_segmentation_project/setup.py\n",
            "Created file: cough_segmentation_project/requirements.txt\n",
            "Created file: cough_segmentation_project/README.md\n",
            "Created directory: cough_segmentation_project/cough_segmentation_package\n",
            "Created file: cough_segmentation_project/cough_segmentation_package/__init__.py\n",
            "Created directory: cough_segmentation_project/cough_segmentation_package/data\n",
            "Created file: cough_segmentation_project/cough_segmentation_package/data/__init__.py\n",
            "Created file: cough_segmentation_project/cough_segmentation_package/data/loader.py\n",
            "Created file: cough_segmentation_project/cough_segmentation_package/data/preprocess.py\n",
            "Created directory: cough_segmentation_project/cough_segmentation_package/features\n",
            "Created file: cough_segmentation_project/cough_segmentation_package/features/__init__.py\n",
            "Created file: cough_segmentation_project/cough_segmentation_package/features/builder.py\n",
            "Created directory: cough_segmentation_project/cough_segmentation_package/ml_models\n",
            "Created file: cough_segmentation_project/cough_segmentation_package/ml_models/__init__.py\n",
            "Created file: cough_segmentation_project/cough_segmentation_package/ml_models/train_model.py\n",
            "Created file: cough_segmentation_project/cough_segmentation_package/ml_models/predict_model.py\n",
            "Created directory: cough_segmentation_project/cough_segmentation_package/nn_models\n",
            "Created file: cough_segmentation_project/cough_segmentation_package/nn_models/__init__.py\n",
            "Created file: cough_segmentation_project/cough_segmentation_package/nn_models/train_model.py\n",
            "Created file: cough_segmentation_project/cough_segmentation_package/nn_models/predict_model.py\n",
            "Created directory: cough_segmentation_project/cough_segmentation_package/utils\n",
            "Created file: cough_segmentation_project/cough_segmentation_package/utils/__init__.py\n",
            "Created file: cough_segmentation_project/cough_segmentation_package/utils/helpers.py\n",
            "Created directory: cough_segmentation_project/cough_segmentation_package/visualization\n",
            "Created file: cough_segmentation_project/cough_segmentation_package/visualization/__init__.py\n",
            "Created file: cough_segmentation_project/cough_segmentation_package/visualization/visualize.py\n"
          ]
        }
      ]
    },
    {
      "cell_type": "code",
      "source": [
        "!git add .\n",
        "\n",
        "#back-up notebooks\n",
        "\n",
        "!git config --global user.email {userdata.get('git')}\n",
        "commit_message = input(\"Enter Your Commit Message.\\nDescribe properly the work that you have done: \")\n",
        "!git commit -m \"{commit_message}\"\n",
        "!git push origin main\n"
      ],
      "metadata": {
        "colab": {
          "base_uri": "https://localhost:8080/"
        },
        "id": "e8xTowaYXrKL",
        "outputId": "3494c875-2722-4450-8437-a2409f860aa4"
      },
      "execution_count": 14,
      "outputs": [
        {
          "output_type": "stream",
          "name": "stdout",
          "text": [
            "Enter Your Commit Message.\n",
            "Describe properly the work that you have done: Setup project directories and files in preparation for coding\n",
            "[main a9e2bbf] Setup project directories and files in preparation for coding\n",
            " 31 files changed, 315 deletions(-)\n",
            " delete mode 100644 Untitled1.ipynb\n",
            " create mode 100644 cough_segmentation_project/README.md\n",
            " create mode 100644 cough_segmentation_project/cough_segmentation_package/__init__.py\n",
            " create mode 100644 cough_segmentation_project/cough_segmentation_package/data/__init__.py\n",
            " create mode 100644 cough_segmentation_project/cough_segmentation_package/data/loader.py\n",
            " create mode 100644 cough_segmentation_project/cough_segmentation_package/data/preprocess.py\n",
            " create mode 100644 cough_segmentation_project/cough_segmentation_package/features/__init__.py\n",
            " create mode 100644 cough_segmentation_project/cough_segmentation_package/features/builder.py\n",
            " create mode 100644 cough_segmentation_project/cough_segmentation_package/ml_models/__init__.py\n",
            " create mode 100644 cough_segmentation_project/cough_segmentation_package/ml_models/predict_model.py\n",
            " create mode 100644 cough_segmentation_project/cough_segmentation_package/ml_models/train_model.py\n",
            " create mode 100644 cough_segmentation_project/cough_segmentation_package/nn_models/__init__.py\n",
            " create mode 100644 cough_segmentation_project/cough_segmentation_package/nn_models/predict_model.py\n",
            " create mode 100644 cough_segmentation_project/cough_segmentation_package/nn_models/train_model.py\n",
            " create mode 100644 cough_segmentation_project/cough_segmentation_package/utils/__init__.py\n",
            " create mode 100644 cough_segmentation_project/cough_segmentation_package/utils/helpers.py\n",
            " create mode 100644 cough_segmentation_project/cough_segmentation_package/visualization/__init__.py\n",
            " create mode 100644 cough_segmentation_project/cough_segmentation_package/visualization/visualize.py\n",
            " create mode 100644 cough_segmentation_project/notebooks/cough_segmentation_project.ipynb\n",
            " create mode 100644 cough_segmentation_project/notebooks/explainable_ai.ipynb\n",
            " create mode 100644 cough_segmentation_project/notebooks/exploratory_analysis.ipynb\n",
            " create mode 100644 cough_segmentation_project/notebooks/features_engineering.ipynb\n",
            " create mode 100644 cough_segmentation_project/notebooks/model_evaluation.ipynb\n",
            " create mode 100644 cough_segmentation_project/notebooks/model_training.ipynb\n",
            " create mode 100644 cough_segmentation_project/requirements.txt\n",
            " create mode 100644 cough_segmentation_project/setup.py\n",
            " create mode 100644 cough_segmentation_project/tests/__init__.py\n",
            " create mode 100644 cough_segmentation_project/tests/test_data.py\n",
            " create mode 100644 cough_segmentation_project/tests/test_features.py\n",
            " create mode 100644 cough_segmentation_project/tests/test_models.py\n",
            " delete mode 100644 test.txt\n",
            "Enumerating objects: 13, done.\n",
            "Counting objects: 100% (13/13), done.\n",
            "Delta compression using up to 2 threads\n",
            "Compressing objects: 100% (11/11), done.\n",
            "Writing objects: 100% (12/12), 1.33 KiB | 1.33 MiB/s, done.\n",
            "Total 12 (delta 0), reused 1 (delta 0), pack-reused 0\n",
            "To https://github.com/warrengmatin/CSEE_903_GroupProject.git\n",
            "   dfd3f5e..a9e2bbf  main -> main\n"
          ]
        }
      ]
    }
  ]
}